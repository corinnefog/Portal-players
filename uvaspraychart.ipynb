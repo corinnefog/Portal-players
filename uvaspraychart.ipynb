{
 "cells": [
  {
   "cell_type": "code",
   "execution_count": 7,
   "metadata": {},
   "outputs": [
    {
     "name": "stdout",
     "output_type": "stream",
     "text": [
      "Index(['PitchNo', 'Date', 'Time', 'PAofInning', 'PitchofPA', 'Pitcher',\n",
      "       'PitcherId', 'PitcherThrows', 'PitcherTeam', 'Batter',\n",
      "       ...\n",
      "       'ThrowTrajectoryZc1', 'ThrowTrajectoryZc2', 'PitchReleaseConfidence',\n",
      "       'PitchLocationConfidence', 'PitchMovementConfidence',\n",
      "       'HitLaunchConfidence', 'HitLandingConfidence',\n",
      "       'CatcherThrowCatchConfidence', 'CatcherThrowReleaseConfidence',\n",
      "       'CatcherThrowLocationConfidence'],\n",
      "      dtype='object', length=167)\n"
     ]
    },
    {
     "name": "stderr",
     "output_type": "stream",
     "text": [
      "/var/folders/y7/ptqmbdxx7sd_k5_4ynr96zg00000gn/T/ipykernel_40975/418856724.py:6: DtypeWarning:\n",
      "\n",
      "Columns (27,93) have mixed types. Specify dtype option on import or set low_memory=False.\n",
      "\n"
     ]
    }
   ],
   "source": [
    "import pandas as pd\n",
    "import numpy as np\n",
    "import matplotlib.pyplot as plt\n",
    "import seaborn as sns\n",
    "\n",
    "data = pd.read_csv('~/Downloads/Conferences/Combined_CSV/ACC_combined/uvacombined.csv')\n",
    "print(data.columns)\n"
   ]
  },
  {
   "cell_type": "code",
   "execution_count": 9,
   "metadata": {},
   "outputs": [
    {
     "data": {
      "text/html": [
       "<div>\n",
       "<style scoped>\n",
       "    .dataframe tbody tr th:only-of-type {\n",
       "        vertical-align: middle;\n",
       "    }\n",
       "\n",
       "    .dataframe tbody tr th {\n",
       "        vertical-align: top;\n",
       "    }\n",
       "\n",
       "    .dataframe thead th {\n",
       "        text-align: right;\n",
       "    }\n",
       "</style>\n",
       "<table border=\"1\" class=\"dataframe\">\n",
       "  <thead>\n",
       "    <tr style=\"text-align: right;\">\n",
       "      <th></th>\n",
       "      <th>PitchNo</th>\n",
       "      <th>Date</th>\n",
       "      <th>Time</th>\n",
       "      <th>PAofInning</th>\n",
       "      <th>PitchofPA</th>\n",
       "      <th>Pitcher</th>\n",
       "      <th>PitcherId</th>\n",
       "      <th>PitcherThrows</th>\n",
       "      <th>PitcherTeam</th>\n",
       "      <th>Batter</th>\n",
       "      <th>...</th>\n",
       "      <th>ThrowTrajectoryZc1</th>\n",
       "      <th>ThrowTrajectoryZc2</th>\n",
       "      <th>PitchReleaseConfidence</th>\n",
       "      <th>PitchLocationConfidence</th>\n",
       "      <th>PitchMovementConfidence</th>\n",
       "      <th>HitLaunchConfidence</th>\n",
       "      <th>HitLandingConfidence</th>\n",
       "      <th>CatcherThrowCatchConfidence</th>\n",
       "      <th>CatcherThrowReleaseConfidence</th>\n",
       "      <th>CatcherThrowLocationConfidence</th>\n",
       "    </tr>\n",
       "  </thead>\n",
       "  <tbody>\n",
       "    <tr>\n",
       "      <th>8667</th>\n",
       "      <td>32</td>\n",
       "      <td>2024-02-16</td>\n",
       "      <td>15:21:54.50</td>\n",
       "      <td>4</td>\n",
       "      <td>1</td>\n",
       "      <td>O'Hanlon, Michael</td>\n",
       "      <td>1.000061e+09</td>\n",
       "      <td>Right</td>\n",
       "      <td>HOF_PRI</td>\n",
       "      <td>Ford, Henry</td>\n",
       "      <td>...</td>\n",
       "      <td>NaN</td>\n",
       "      <td>NaN</td>\n",
       "      <td>High</td>\n",
       "      <td>High</td>\n",
       "      <td>High</td>\n",
       "      <td>NaN</td>\n",
       "      <td>NaN</td>\n",
       "      <td>NaN</td>\n",
       "      <td>NaN</td>\n",
       "      <td>NaN</td>\n",
       "    </tr>\n",
       "    <tr>\n",
       "      <th>8668</th>\n",
       "      <td>33</td>\n",
       "      <td>2024-02-16</td>\n",
       "      <td>15:22:16.22</td>\n",
       "      <td>4</td>\n",
       "      <td>2</td>\n",
       "      <td>O'Hanlon, Michael</td>\n",
       "      <td>1.000061e+09</td>\n",
       "      <td>Right</td>\n",
       "      <td>HOF_PRI</td>\n",
       "      <td>Ford, Henry</td>\n",
       "      <td>...</td>\n",
       "      <td>NaN</td>\n",
       "      <td>NaN</td>\n",
       "      <td>High</td>\n",
       "      <td>High</td>\n",
       "      <td>High</td>\n",
       "      <td>NaN</td>\n",
       "      <td>NaN</td>\n",
       "      <td>NaN</td>\n",
       "      <td>NaN</td>\n",
       "      <td>NaN</td>\n",
       "    </tr>\n",
       "    <tr>\n",
       "      <th>8669</th>\n",
       "      <td>34</td>\n",
       "      <td>2024-02-16</td>\n",
       "      <td>15:22:37.55</td>\n",
       "      <td>4</td>\n",
       "      <td>3</td>\n",
       "      <td>O'Hanlon, Michael</td>\n",
       "      <td>1.000061e+09</td>\n",
       "      <td>Right</td>\n",
       "      <td>HOF_PRI</td>\n",
       "      <td>Ford, Henry</td>\n",
       "      <td>...</td>\n",
       "      <td>NaN</td>\n",
       "      <td>NaN</td>\n",
       "      <td>High</td>\n",
       "      <td>High</td>\n",
       "      <td>High</td>\n",
       "      <td>NaN</td>\n",
       "      <td>NaN</td>\n",
       "      <td>NaN</td>\n",
       "      <td>NaN</td>\n",
       "      <td>NaN</td>\n",
       "    </tr>\n",
       "    <tr>\n",
       "      <th>8670</th>\n",
       "      <td>35</td>\n",
       "      <td>2024-02-16</td>\n",
       "      <td>15:23:06.76</td>\n",
       "      <td>4</td>\n",
       "      <td>4</td>\n",
       "      <td>O'Hanlon, Michael</td>\n",
       "      <td>1.000061e+09</td>\n",
       "      <td>Right</td>\n",
       "      <td>HOF_PRI</td>\n",
       "      <td>Ford, Henry</td>\n",
       "      <td>...</td>\n",
       "      <td>NaN</td>\n",
       "      <td>NaN</td>\n",
       "      <td>High</td>\n",
       "      <td>High</td>\n",
       "      <td>High</td>\n",
       "      <td>NaN</td>\n",
       "      <td>NaN</td>\n",
       "      <td>NaN</td>\n",
       "      <td>NaN</td>\n",
       "      <td>NaN</td>\n",
       "    </tr>\n",
       "    <tr>\n",
       "      <th>8671</th>\n",
       "      <td>36</td>\n",
       "      <td>2024-02-16</td>\n",
       "      <td>15:23:28.39</td>\n",
       "      <td>4</td>\n",
       "      <td>5</td>\n",
       "      <td>O'Hanlon, Michael</td>\n",
       "      <td>1.000061e+09</td>\n",
       "      <td>Right</td>\n",
       "      <td>HOF_PRI</td>\n",
       "      <td>Ford, Henry</td>\n",
       "      <td>...</td>\n",
       "      <td>NaN</td>\n",
       "      <td>NaN</td>\n",
       "      <td>High</td>\n",
       "      <td>High</td>\n",
       "      <td>High</td>\n",
       "      <td>NaN</td>\n",
       "      <td>NaN</td>\n",
       "      <td>NaN</td>\n",
       "      <td>NaN</td>\n",
       "      <td>NaN</td>\n",
       "    </tr>\n",
       "  </tbody>\n",
       "</table>\n",
       "<p>5 rows × 167 columns</p>\n",
       "</div>"
      ],
      "text/plain": [
       "      PitchNo        Date         Time  PAofInning  PitchofPA  \\\n",
       "8667       32  2024-02-16  15:21:54.50           4          1   \n",
       "8668       33  2024-02-16  15:22:16.22           4          2   \n",
       "8669       34  2024-02-16  15:22:37.55           4          3   \n",
       "8670       35  2024-02-16  15:23:06.76           4          4   \n",
       "8671       36  2024-02-16  15:23:28.39           4          5   \n",
       "\n",
       "                Pitcher     PitcherId PitcherThrows PitcherTeam       Batter  \\\n",
       "8667  O'Hanlon, Michael  1.000061e+09         Right     HOF_PRI  Ford, Henry   \n",
       "8668  O'Hanlon, Michael  1.000061e+09         Right     HOF_PRI  Ford, Henry   \n",
       "8669  O'Hanlon, Michael  1.000061e+09         Right     HOF_PRI  Ford, Henry   \n",
       "8670  O'Hanlon, Michael  1.000061e+09         Right     HOF_PRI  Ford, Henry   \n",
       "8671  O'Hanlon, Michael  1.000061e+09         Right     HOF_PRI  Ford, Henry   \n",
       "\n",
       "      ...  ThrowTrajectoryZc1 ThrowTrajectoryZc2 PitchReleaseConfidence  \\\n",
       "8667  ...                 NaN                NaN                   High   \n",
       "8668  ...                 NaN                NaN                   High   \n",
       "8669  ...                 NaN                NaN                   High   \n",
       "8670  ...                 NaN                NaN                   High   \n",
       "8671  ...                 NaN                NaN                   High   \n",
       "\n",
       "     PitchLocationConfidence  PitchMovementConfidence HitLaunchConfidence  \\\n",
       "8667                    High                     High                 NaN   \n",
       "8668                    High                     High                 NaN   \n",
       "8669                    High                     High                 NaN   \n",
       "8670                    High                     High                 NaN   \n",
       "8671                    High                     High                 NaN   \n",
       "\n",
       "      HitLandingConfidence  CatcherThrowCatchConfidence  \\\n",
       "8667                   NaN                          NaN   \n",
       "8668                   NaN                          NaN   \n",
       "8669                   NaN                          NaN   \n",
       "8670                   NaN                          NaN   \n",
       "8671                   NaN                          NaN   \n",
       "\n",
       "      CatcherThrowReleaseConfidence CatcherThrowLocationConfidence  \n",
       "8667                            NaN                            NaN  \n",
       "8668                            NaN                            NaN  \n",
       "8669                            NaN                            NaN  \n",
       "8670                            NaN                            NaN  \n",
       "8671                            NaN                            NaN  \n",
       "\n",
       "[5 rows x 167 columns]"
      ]
     },
     "execution_count": 9,
     "metadata": {},
     "output_type": "execute_result"
    }
   ],
   "source": [
    "filtered_df = data[data['Batter'].str.contains('Ford, Henry', na=False)]\n",
    "filtered_df.head()"
   ]
  },
  {
   "cell_type": "code",
   "execution_count": 10,
   "metadata": {},
   "outputs": [
    {
     "data": {
      "image/png": "[encoded data removed]",
      "text/plain": [
       "<Figure size 1200x800 with 1 Axes>"
      ]
     },
     "metadata": {},
     "output_type": "display_data"
    }
   ],
   "source": [
    "from matplotlib.patches import Patch\n",
    "fair_data = filtered_df[\n",
    "    (filtered_df['Direction'] >= -45) &\n",
    "    (filtered_df['Direction'] <= 45) &\n",
    "     (filtered_df['Distance'] >= 30)\n",
    "].dropna(subset=['Distance'])\n",
    "\n",
    "fair_data['Direction_rad'] = np.deg2rad(fair_data['Direction'])\n",
    "fair_data['SprayX'] = fair_data['Distance'] * np.sin(fair_data['Direction_rad'])\n",
    "fair_data['SprayY'] = fair_data['Distance'] * np.cos(fair_data['Direction_rad'])\n",
    "\n",
    "pitch_types = fair_data['TaggedPitchType'].unique()\n",
    "palette = dict(zip(pitch_types, sns.color_palette(n_colors=len(pitch_types))))\n",
    "colors = fair_data['TaggedPitchType'].map(palette)\n",
    "\n",
    "fig, ax = plt.subplots(figsize=(12, 8))\n",
    "\n",
    "outfield = plt.Circle((0, 0), 250, color='white', fill=True, zorder=0)\n",
    "ax.add_artist(outfield)\n",
    "ax.plot([0, -250], [0, 250], color='red', linewidth=2)  # Left foul line\n",
    "ax.plot([0, 250], [0, 250], color='red', linewidth=2)   # Right foul line\n",
    "\n",
    "ax.scatter(\n",
    "    fair_data['SprayX'], \n",
    "    fair_data['SprayY'], \n",
    "    color= colors, \n",
    "    alpha=0.9, \n",
    "    edgecolor='black', \n",
    "    linewidth=0.3,\n",
    "    s=50\n",
    ")\n",
    "\n",
    "ax.set_xlim(-250, 250)\n",
    "ax.set_ylim(0, 400)\n",
    "ax.set_aspect('equal')\n",
    "ax.set_facecolor('white')\n",
    "sns.despine(left=True, bottom=True)\n",
    "\n",
    "legend_handles = [Patch(color=palette[p], label=p) for p in pitch_types]\n",
    "ax.legend(handles=legend_handles, title='Pitch Type', loc='upper right')\n",
    "\n",
    "plt.title('Spray Chart', fontsize=16)\n",
    "plt.xlabel('Horizontal Distance (ft)')\n",
    "plt.ylabel('Vertical Distance (ft)')\n",
    "plt.grid(True, linestyle='--', alpha=0.3)\n",
    "plt.tight_layout()\n",
    "plt.show()"
   ]
  },
  {
   "cell_type": "code",
   "execution_count": 11,
   "metadata": {},
   "outputs": [
    {
     "data": {
      "application/vnd.plotly.v1+json": {
       "config": {
        "plotlyServerURL": "https://plot.ly"
       },
       "data": [
        {
         "hovertemplate": "<b>Fastball</b><br>X: %{x}<br>Y: %{y}<extra></extra>",
         "marker": {
          "color": "#ffa500",
          "line": {
           "color": "black",
           "width": 0.5
          },
          "size": 8
         },
         "mode": "markers",
         "name": "Fastball",
         "type": "scatter",
         "x": {
          "bdata": "9NRV8QtLVMAFTWvCNxEfwLVzk8nJtVzAysY1wtA/akAHW5yYWGD9v67DjuXkWmfAx83K2lVQKkBwPmQZFkBWQPs+VsCOqkDAifU5RnLXRMAkH7y3l+gpQI9NK/5tohLA4CK+DMYxQUD0wTy+mrpEwBxCD3NC/1tAdguYbkYSTkBjyYdvEalLwIQ1W4eW9PS/We1l8ZBhSMBmDW0aEgXjv88x4xmLaWJA/jzOfLU/YkCBChcMr0pOwBjNndOqSOK/+W2ef5prPsDdRlfTu/5PQCgvAaKWAPW/TV9nVdWAYsBkvEZ0vkBIQCch43L2wEdA",
          "dtype": "f8"
         },
         "y": {
          "bdata": "tpUk3vdhYEAKVe2eEv9IQJhISSsSsXhAUxqsAHMxcEDJqy51znpsQGjS/takhnNAr/j6LFfFbkA4EewoBVNxQK/J66SYx2BA7vkxywOYUUD3XH1nPRJ4QMywHS9KdHJAE0deOupWcUCe+UTX5cB3QO1Ux5zt8mVAyRa5x8dCdUBQ1mrEdadyQD81d/r9Sz5AUEYzcck+d0D42SknqRdSQJHRhOT8+XJAZAlsnO7GdECb5WnXstN4QE5weBG8k0JAIItZhQgdW0DCT7rcfQZ0QLw3f05k63dA8z9HJSeMeEDJe3iJSB50QNL64PhJultA",
          "dtype": "f8"
         }
        },
        {
         "hovertemplate": "<b>Curveball</b><br>X: %{x}<br>Y: %{y}<extra></extra>",
         "marker": {
          "color": "#b3ff00",
          "line": {
           "color": "black",
           "width": 0.5
          },
          "size": 8
         },
         "mode": "markers",
         "name": "Curveball",
         "type": "scatter",
         "x": {
          "bdata": "pMTEQzEvVMDF5gBcXqtowC5wZLrrHh9Aw0nZg6kTZUDUjUcP45RpwP2YZje6HVHAo4QfUk8TVEB8Tg+JNKcpwMwVTq6V6DrAgrfuT5rfUcCctAh32l5owA==",
          "dtype": "f8"
         },
         "y": {
          "bdata": "dnKlDaRTY0AooTitqQxuQODY7ng1TEdANDCS1bSRZ0ABBd3ajIxvQEaayNLsm3pAu6F/OEWvX0A5x+cuPE1dQEML6DBltj5At7ZSMTtud0DRhZiCcR13QA==",
          "dtype": "f8"
         }
        },
        {
         "hovertemplate": "<b>Slider</b><br>X: %{x}<br>Y: %{y}<extra></extra>",
         "marker": {
          "color": "#08ff00",
          "line": {
           "color": "black",
           "width": 0.5
          },
          "size": 8
         },
         "mode": "markers",
         "name": "Slider",
         "type": "scatter",
         "x": {
          "bdata": "HAVIA4fMWMAseaFfO6FTwI9/SfUhGFHAZCqVScjlRMA8DhiSvaFZwEMvkpmaeWzArBg0cYh+QsA6flfP8Ck+QJ2iCNQ83mJAeO4faAVCAMAHmLnkJUlHQP1BfeD1m13ARVuEqA55XcB/gXkrizwwwOCPOBdamznAwbsgDK6FbMCoVCq588BQwA==",
          "dtype": "f8"
         },
         "y": {
          "bdata": "UZhzqCX8b0CF6OcxduRvQFXNFUb4OWdAlPnP2/3BYEBC6OsMT0t0QAOaLJJg7HNAEZbhjiIWdEA+F7hEdSd1QBqOcw37XnJAqfbh1gQ8cUAQBi91b6hxQK6ZyVEwOXhAKLztx71SckCsLXLBrL5CQDo59FcF92JA0UbocvArcEDE7uv9ysB5QA==",
          "dtype": "f8"
         }
        },
        {
         "hovertemplate": "<b>Cutter</b><br>X: %{x}<br>Y: %{y}<extra></extra>",
         "marker": {
          "color": "#00ff9d",
          "line": {
           "color": "black",
           "width": 0.5
          },
          "size": 8
         },
         "mode": "markers",
         "name": "Cutter",
         "type": "scatter",
         "x": {
          "bdata": "os3ogs0GTECTRQIeFe1gwAjGNDkGCwjAeK65MYfRYcA=",
          "dtype": "f8"
         },
         "y": {
          "bdata": "BnaKkeWNZkDy5f7BiFZlQNK9BiLKIkRAYFodO7Iud0A=",
          "dtype": "f8"
         }
        },
        {
         "hovertemplate": "<b>FourSeamFastBall</b><br>X: %{x}<br>Y: %{y}<extra></extra>",
         "marker": {
          "color": "#00b5ff",
          "line": {
           "color": "black",
           "width": 0.5
          },
          "size": 8
         },
         "mode": "markers",
         "name": "FourSeamFastBall",
         "type": "scatter",
         "x": {
          "bdata": "fdYcwJo+AkA=",
          "dtype": "f8"
         },
         "y": {
          "bdata": "3a6RLTRFQ0A=",
          "dtype": "f8"
         }
        },
        {
         "hovertemplate": "<b>ChangeUp</b><br>X: %{x}<br>Y: %{y}<extra></extra>",
         "marker": {
          "color": "#0010ff",
          "line": {
           "color": "black",
           "width": 0.5
          },
          "size": 8
         },
         "mode": "markers",
         "name": "ChangeUp",
         "type": "scatter",
         "x": {
          "bdata": "0xkpDUhIQMBcUWjHxDRDwDe7MSS70jLAG2nHTFLDUsA=",
          "dtype": "f8"
         },
         "y": {
          "bdata": "Q1vw1LFXTECaPDoSaL5GQL9NH4xWr3JA0tAHtcyxckA=",
          "dtype": "f8"
         }
        },
        {
         "hovertemplate": "<b>Splitter</b><br>X: %{x}<br>Y: %{y}<extra></extra>",
         "marker": {
          "color": "#9b00ff",
          "line": {
           "color": "black",
           "width": 0.5
          },
          "size": 8
         },
         "mode": "markers",
         "name": "Splitter",
         "type": "scatter",
         "x": {
          "bdata": "c1AF9Z8OQsA=",
          "dtype": "f8"
         },
         "y": {
          "bdata": "0miwW7wuUEA=",
          "dtype": "f8"
         }
        },
        {
         "hovertemplate": "<b>Sinker</b><br>X: %{x}<br>Y: %{y}<extra></extra>",
         "marker": {
          "color": "#ff00bd",
          "line": {
           "color": "black",
           "width": 0.5
          },
          "size": 8
         },
         "mode": "markers",
         "name": "Sinker",
         "type": "scatter",
         "x": {
          "bdata": "jbN1tX2/UsA=",
          "dtype": "f8"
         },
         "y": {
          "bdata": "QYqcOhpedkA=",
          "dtype": "f8"
         }
        },
        {
         "line": {
          "color": "lightgray"
         },
         "mode": "lines",
         "showlegend": false,
         "type": "scatter",
         "x": {
          "bdata": "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",
          "dtype": "f8"
         },
         "y": {
          "bdata": "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",
          "dtype": "f8"
         }
        }
       ],
       "layout": {
        "height": 700,
        "legend": {
         "title": {
          "text": "Pitch Type"
         }
        },
        "plot_bgcolor": "white",
        "shapes": [
         {
          "line": {
           "color": "red",
           "width": 2
          },
          "type": "line",
          "x0": 0,
          "x1": -250,
          "y0": 0,
          "y1": 250
         },
         {
          "line": {
           "color": "red",
           "width": 2
          },
          "type": "line",
          "x0": 0,
          "x1": 250,
          "y0": 0,
          "y1": 250
         }
        ],
        "template": {
         "data": {
          "bar": [
           {
            "error_x": {
             "color": "#2a3f5f"
            },
            "error_y": {
             "color": "#2a3f5f"
            },
            "marker": {
             "line": {
              "color": "#E5ECF6",
              "width": 0.5
             },
             "pattern": {
              "fillmode": "overlay",
              "size": 10,
              "solidity": 0.2
             }
            },
            "type": "bar"
           }
          ],
          "barpolar": [
           {
            "marker": {
             "line": {
              "color": "#E5ECF6",
              "width": 0.5
             },
             "pattern": {
              "fillmode": "overlay",
              "size": 10,
              "solidity": 0.2
             }
            },
            "type": "barpolar"
           }
          ],
          "carpet": [
           {
            "aaxis": {
             "endlinecolor": "#2a3f5f",
             "gridcolor": "white",
             "linecolor": "white",
             "minorgridcolor": "white",
             "startlinecolor": "#2a3f5f"
            },
            "baxis": {
             "endlinecolor": "#2a3f5f",
             "gridcolor": "white",
             "linecolor": "white",
             "minorgridcolor": "white",
             "startlinecolor": "#2a3f5f"
            },
            "type": "carpet"
           }
          ],
          "choropleth": [
           {
            "colorbar": {
             "outlinewidth": 0,
             "ticks": ""
            },
            "type": "choropleth"
           }
          ],
          "contour": [
           {
            "colorbar": {
             "outlinewidth": 0,
             "ticks": ""
            },
            "colorscale": [
             [
              0,
              "#0d0887"
             ],
             [
              0.1111111111111111,
              "#46039f"
             ],
             [
              0.2222222222222222,
              "#7201a8"
             ],
             [
              0.3333333333333333,
              "#9c179e"
             ],
             [
              0.4444444444444444,
              "#bd3786"
             ],
             [
              0.5555555555555556,
              "#d8576b"
             ],
             [
              0.6666666666666666,
              "#ed7953"
             ],
             [
              0.7777777777777778,
              "#fb9f3a"
             ],
             [
              0.8888888888888888,
              "#fdca26"
             ],
             [
              1,
              "#f0f921"
             ]
            ],
            "type": "contour"
           }
          ],
          "contourcarpet": [
           {
            "colorbar": {
             "outlinewidth": 0,
             "ticks": ""
            },
            "type": "contourcarpet"
           }
          ],
          "heatmap": [
           {
            "colorbar": {
             "outlinewidth": 0,
             "ticks": ""
            },
            "colorscale": [
             [
              0,
              "#0d0887"
             ],
             [
              0.1111111111111111,
              "#46039f"
             ],
             [
              0.2222222222222222,
              "#7201a8"
             ],
             [
              0.3333333333333333,
              "#9c179e"
             ],
             [
              0.4444444444444444,
              "#bd3786"
             ],
             [
              0.5555555555555556,
              "#d8576b"
             ],
             [
              0.6666666666666666,
              "#ed7953"
             ],
             [
              0.7777777777777778,
              "#fb9f3a"
             ],
             [
              0.8888888888888888,
              "#fdca26"
             ],
             [
              1,
              "#f0f921"
             ]
            ],
            "type": "heatmap"
           }
          ],
          "histogram": [
           {
            "marker": {
             "pattern": {
              "fillmode": "overlay",
              "size": 10,
              "solidity": 0.2
             }
            },
            "type": "histogram"
           }
          ],
          "histogram2d": [
           {
            "colorbar": {
             "outlinewidth": 0,
             "ticks": ""
            },
            "colorscale": [
             [
              0,
              "#0d0887"
             ],
             [
              0.1111111111111111,
              "#46039f"
             ],
             [
              0.2222222222222222,
              "#7201a8"
             ],
             [
              0.3333333333333333,
              "#9c179e"
             ],
             [
              0.4444444444444444,
              "#bd3786"
             ],
             [
              0.5555555555555556,
              "#d8576b"
             ],
             [
              0.6666666666666666,
              "#ed7953"
             ],
             [
              0.7777777777777778,
              "#fb9f3a"
             ],
             [
              0.8888888888888888,
              "#fdca26"
             ],
             [
              1,
              "#f0f921"
             ]
            ],
            "type": "histogram2d"
           }
          ],
          "histogram2dcontour": [
           {
            "colorbar": {
             "outlinewidth": 0,
             "ticks": ""
            },
            "colorscale": [
             [
              0,
              "#0d0887"
             ],
             [
              0.1111111111111111,
              "#46039f"
             ],
             [
              0.2222222222222222,
              "#7201a8"
             ],
             [
              0.3333333333333333,
              "#9c179e"
             ],
             [
              0.4444444444444444,
              "#bd3786"
             ],
             [
              0.5555555555555556,
              "#d8576b"
             ],
             [
              0.6666666666666666,
              "#ed7953"
             ],
             [
              0.7777777777777778,
              "#fb9f3a"
             ],
             [
              0.8888888888888888,
              "#fdca26"
             ],
             [
              1,
              "#f0f921"
             ]
            ],
            "type": "histogram2dcontour"
           }
          ],
          "mesh3d": [
           {
            "colorbar": {
             "outlinewidth": 0,
             "ticks": ""
            },
            "type": "mesh3d"
           }
          ],
          "parcoords": [
           {
            "line": {
             "colorbar": {
              "outlinewidth": 0,
              "ticks": ""
             }
            },
            "type": "parcoords"
           }
          ],
          "pie": [
           {
            "automargin": true,
            "type": "pie"
           }
          ],
          "scatter": [
           {
            "fillpattern": {
             "fillmode": "overlay",
             "size": 10,
             "solidity": 0.2
            },
            "type": "scatter"
           }
          ],
          "scatter3d": [
           {
            "line": {
             "colorbar": {
              "outlinewidth": 0,
              "ticks": ""
             }
            },
            "marker": {
             "colorbar": {
              "outlinewidth": 0,
              "ticks": ""
             }
            },
            "type": "scatter3d"
           }
          ],
          "scattercarpet": [
           {
            "marker": {
             "colorbar": {
              "outlinewidth": 0,
              "ticks": ""
             }
            },
            "type": "scattercarpet"
           }
          ],
          "scattergeo": [
           {
            "marker": {
             "colorbar": {
              "outlinewidth": 0,
              "ticks": ""
             }
            },
            "type": "scattergeo"
           }
          ],
          "scattergl": [
           {
            "marker": {
             "colorbar": {
              "outlinewidth": 0,
              "ticks": ""
             }
            },
            "type": "scattergl"
           }
          ],
          "scattermap": [
           {
            "marker": {
             "colorbar": {
              "outlinewidth": 0,
              "ticks": ""
             }
            },
            "type": "scattermap"
           }
          ],
          "scattermapbox": [
           {
            "marker": {
             "colorbar": {
              "outlinewidth": 0,
              "ticks": ""
             }
            },
            "type": "scattermapbox"
           }
          ],
          "scatterpolar": [
           {
            "marker": {
             "colorbar": {
              "outlinewidth": 0,
              "ticks": ""
             }
            },
            "type": "scatterpolar"
           }
          ],
          "scatterpolargl": [
           {
            "marker": {
             "colorbar": {
              "outlinewidth": 0,
              "ticks": ""
             }
            },
            "type": "scatterpolargl"
           }
          ],
          "scatterternary": [
           {
            "marker": {
             "colorbar": {
              "outlinewidth": 0,
              "ticks": ""
             }
            },
            "type": "scatterternary"
           }
          ],
          "surface": [
           {
            "colorbar": {
             "outlinewidth": 0,
             "ticks": ""
            },
            "colorscale": [
             [
              0,
              "#0d0887"
             ],
             [
              0.1111111111111111,
              "#46039f"
             ],
             [
              0.2222222222222222,
              "#7201a8"
             ],
             [
              0.3333333333333333,
              "#9c179e"
             ],
             [
              0.4444444444444444,
              "#bd3786"
             ],
             [
              0.5555555555555556,
              "#d8576b"
             ],
             [
              0.6666666666666666,
              "#ed7953"
             ],
             [
              0.7777777777777778,
              "#fb9f3a"
             ],
             [
              0.8888888888888888,
              "#fdca26"
             ],
             [
              1,
              "#f0f921"
             ]
            ],
            "type": "surface"
           }
          ],
          "table": [
           {
            "cells": {
             "fill": {
              "color": "#EBF0F8"
             },
             "line": {
              "color": "white"
             }
            },
            "header": {
             "fill": {
              "color": "#C8D4E3"
             },
             "line": {
              "color": "white"
             }
            },
            "type": "table"
           }
          ]
         },
         "layout": {
          "annotationdefaults": {
           "arrowcolor": "#2a3f5f",
           "arrowhead": 0,
           "arrowwidth": 1
          },
          "autotypenumbers": "strict",
          "coloraxis": {
           "colorbar": {
            "outlinewidth": 0,
            "ticks": ""
           }
          },
          "colorscale": {
           "diverging": [
            [
             0,
             "#8e0152"
            ],
            [
             0.1,
             "#c51b7d"
            ],
            [
             0.2,
             "#de77ae"
            ],
            [
             0.3,
             "#f1b6da"
            ],
            [
             0.4,
             "#fde0ef"
            ],
            [
             0.5,
             "#f7f7f7"
            ],
            [
             0.6,
             "#e6f5d0"
            ],
            [
             0.7,
             "#b8e186"
            ],
            [
             0.8,
             "#7fbc41"
            ],
            [
             0.9,
             "#4d9221"
            ],
            [
             1,
             "#276419"
            ]
           ],
           "sequential": [
            [
             0,
             "#0d0887"
            ],
            [
             0.1111111111111111,
             "#46039f"
            ],
            [
             0.2222222222222222,
             "#7201a8"
            ],
            [
             0.3333333333333333,
             "#9c179e"
            ],
            [
             0.4444444444444444,
             "#bd3786"
            ],
            [
             0.5555555555555556,
             "#d8576b"
            ],
            [
             0.6666666666666666,
             "#ed7953"
            ],
            [
             0.7777777777777778,
             "#fb9f3a"
            ],
            [
             0.8888888888888888,
             "#fdca26"
            ],
            [
             1,
             "#f0f921"
            ]
           ],
           "sequentialminus": [
            [
             0,
             "#0d0887"
            ],
            [
             0.1111111111111111,
             "#46039f"
            ],
            [
             0.2222222222222222,
             "#7201a8"
            ],
            [
             0.3333333333333333,
             "#9c179e"
            ],
            [
             0.4444444444444444,
             "#bd3786"
            ],
            [
             0.5555555555555556,
             "#d8576b"
            ],
            [
             0.6666666666666666,
             "#ed7953"
            ],
            [
             0.7777777777777778,
             "#fb9f3a"
            ],
            [
             0.8888888888888888,
             "#fdca26"
            ],
            [
             1,
             "#f0f921"
            ]
           ]
          },
          "colorway": [
           "#636efa",
           "#EF553B",
           "#00cc96",
           "#ab63fa",
           "#FFA15A",
           "#19d3f3",
           "#FF6692",
           "#B6E880",
           "#FF97FF",
           "#FECB52"
          ],
          "font": {
           "color": "#2a3f5f"
          },
          "geo": {
           "bgcolor": "white",
           "lakecolor": "white",
           "landcolor": "#E5ECF6",
           "showlakes": true,
           "showland": true,
           "subunitcolor": "white"
          },
          "hoverlabel": {
           "align": "left"
          },
          "hovermode": "closest",
          "mapbox": {
           "style": "light"
          },
          "paper_bgcolor": "white",
          "plot_bgcolor": "#E5ECF6",
          "polar": {
           "angularaxis": {
            "gridcolor": "white",
            "linecolor": "white",
            "ticks": ""
           },
           "bgcolor": "#E5ECF6",
           "radialaxis": {
            "gridcolor": "white",
            "linecolor": "white",
            "ticks": ""
           }
          },
          "scene": {
           "xaxis": {
            "backgroundcolor": "#E5ECF6",
            "gridcolor": "white",
            "gridwidth": 2,
            "linecolor": "white",
            "showbackground": true,
            "ticks": "",
            "zerolinecolor": "white"
           },
           "yaxis": {
            "backgroundcolor": "#E5ECF6",
            "gridcolor": "white",
            "gridwidth": 2,
            "linecolor": "white",
            "showbackground": true,
            "ticks": "",
            "zerolinecolor": "white"
           },
           "zaxis": {
            "backgroundcolor": "#E5ECF6",
            "gridcolor": "white",
            "gridwidth": 2,
            "linecolor": "white",
            "showbackground": true,
            "ticks": "",
            "zerolinecolor": "white"
           }
          },
          "shapedefaults": {
           "line": {
            "color": "#2a3f5f"
           }
          },
          "ternary": {
           "aaxis": {
            "gridcolor": "white",
            "linecolor": "white",
            "ticks": ""
           },
           "baxis": {
            "gridcolor": "white",
            "linecolor": "white",
            "ticks": ""
           },
           "bgcolor": "#E5ECF6",
           "caxis": {
            "gridcolor": "white",
            "linecolor": "white",
            "ticks": ""
           }
          },
          "title": {
           "x": 0.05
          },
          "xaxis": {
           "automargin": true,
           "gridcolor": "white",
           "linecolor": "white",
           "ticks": "",
           "title": {
            "standoff": 15
           },
           "zerolinecolor": "white",
           "zerolinewidth": 2
          },
          "yaxis": {
           "automargin": true,
           "gridcolor": "white",
           "linecolor": "white",
           "ticks": "",
           "title": {
            "standoff": 15
           },
           "zerolinecolor": "white",
           "zerolinewidth": 2
          }
         }
        },
        "title": {
         "text": "Spray Chart (Interactive)"
        },
        "width": 800,
        "xaxis": {
         "range": [
          -250,
          250
         ],
         "showgrid": true,
         "title": {
          "text": "Horizontal Distance (ft)"
         }
        },
        "yaxis": {
         "range": [
          0,
          400
         ],
         "scaleanchor": "x",
         "scaleratio": 1,
         "showgrid": true,
         "title": {
          "text": "Vertical Distance (ft)"
         }
        }
       }
      }
     },
     "metadata": {},
     "output_type": "display_data"
    }
   ],
   "source": [
    "import plotly.graph_objects as go\n",
    "\n",
    "\n",
    "fair_data['Direction_rad'] = np.deg2rad(fair_data['Direction'])\n",
    "fair_data['SprayX'] = fair_data['Distance'] * np.sin(fair_data['Direction_rad'])\n",
    "fair_data['SprayY'] = fair_data['Distance'] * np.cos(fair_data['Direction_rad'])\n",
    "\n",
    "pitch_types = fair_data['TaggedPitchType'].unique()\n",
    "palette = dict(zip(pitch_types, sns.color_palette(\"hsv\", n_colors=len(pitch_types)).as_hex()))\n",
    "fair_data['Color'] = fair_data['TaggedPitchType'].map(palette)\n",
    "\n",
    "fig = go.Figure()\n",
    "\n",
    "for pitch in pitch_types:\n",
    "    df_subset = fair_data[fair_data['TaggedPitchType'] == pitch]\n",
    "    fig.add_trace(go.Scatter(\n",
    "        x=df_subset['SprayX'],\n",
    "        y=df_subset['SprayY'],\n",
    "        mode='markers',\n",
    "        marker=dict(size=8, color=palette[pitch], line=dict(width=0.5, color='black')),\n",
    "        name=pitch,\n",
    "        hovertemplate=f\"<b>{pitch}</b><br>X: %{{x}}<br>Y: %{{y}}<extra></extra>\"\n",
    "    ))\n",
    "\n",
    "\n",
    "fig.add_shape(type=\"line\", x0=0, y0=0, x1=-250, y1=250, line=dict(color=\"red\", width=2))\n",
    "fig.add_shape(type=\"line\", x0=0, y0=0, x1=250, y1=250, line=dict(color=\"red\", width=2))\n",
    "\n",
    "theta = np.linspace(-np.pi/4, np.pi/4, 200)\n",
    "arc_x = 250 * np.sin(theta)\n",
    "arc_y = 250 * np.cos(theta)\n",
    "fig.add_trace(go.Scatter(x=arc_x, y=arc_y, mode='lines', line=dict(color='lightgray'), showlegend=False))\n",
    "\n",
    "# Layout adjustments\n",
    "fig.update_layout(\n",
    "    title=\"Spray Chart (Interactive)\",\n",
    "    xaxis=dict(title=\"Horizontal Distance (ft)\", range=[-250, 250], showgrid=True),\n",
    "    yaxis=dict(title=\"Vertical Distance (ft)\", range=[0, 400], showgrid=True),\n",
    "    width=800,\n",
    "    height=700,\n",
    "    plot_bgcolor='white',\n",
    "    legend_title_text='Pitch Type'\n",
    ")\n",
    "\n",
    "fig.update_yaxes(scaleanchor=\"x\", scaleratio=1)\n",
    "fig.show()\n"
   ]
  },
  {
   "cell_type": "code",
   "execution_count": null,
   "metadata": {},
   "outputs": [
    {
     "data": {
      "application/vnd.plotly.v1+json": {
       "config": {
        "plotlyServerURL": "https://plot.ly"
       },
       "data": [
        {
         "customdata": [
          [
           181.85461,
           "Fastball"
          ],
          [
           36.83503,
           "Fastball"
          ]
         ],
         "hovertemplate": "Batter: Buchanan, Walker<br>Distance: %{customdata[0]} ft<br>Pitch Type: %{customdata[1]}",
         "marker": {
          "color": "blue",
          "line": {
           "color": "black",
           "width": 1
          },
          "size": 8
         },
         "mode": "markers",
         "name": "Buchanan, Walker",
         "type": "scatter",
         "visible": true,
         "x": {
          "bdata": "/U+k2dH7MUBkwnyipr8FwA==",
          "dtype": "f8"
         },
         "y": {
          "bdata": "5z1qsdKeZkCszk5yBl5CQA==",
          "dtype": "f8"
         }
        }
       ],
       "layout": {
        "height": 700,
        "plot_bgcolor": "white",
        "shapes": [
         {
          "line": {
           "color": "red",
           "width": 2
          },
          "type": "line",
          "x0": 0,
          "x1": -250,
          "y0": 0,
          "y1": 250
         },
         {
          "line": {
           "color": "red",
           "width": 2
          },
          "type": "line",
          "x0": 0,
          "x1": 250,
          "y0": 0,
          "y1": 250
         }
        ],
        "template": {
         "data": {
          "bar": [
           {
            "error_x": {
             "color": "#2a3f5f"
            },
            "error_y": {
             "color": "#2a3f5f"
            },
            "marker": {
             "line": {
              "color": "#E5ECF6",
              "width": 0.5
             },
             "pattern": {
              "fillmode": "overlay",
              "size": 10,
              "solidity": 0.2
             }
            },
            "type": "bar"
           }
          ],
          "barpolar": [
           {
            "marker": {
             "line": {
              "color": "#E5ECF6",
              "width": 0.5
             },
             "pattern": {
              "fillmode": "overlay",
              "size": 10,
              "solidity": 0.2
             }
            },
            "type": "barpolar"
           }
          ],
          "carpet": [
           {
            "aaxis": {
             "endlinecolor": "#2a3f5f",
             "gridcolor": "white",
             "linecolor": "white",
             "minorgridcolor": "white",
             "startlinecolor": "#2a3f5f"
            },
            "baxis": {
             "endlinecolor": "#2a3f5f",
             "gridcolor": "white",
             "linecolor": "white",
             "minorgridcolor": "white",
             "startlinecolor": "#2a3f5f"
            },
            "type": "carpet"
           }
          ],
          "choropleth": [
           {
            "colorbar": {
             "outlinewidth": 0,
             "ticks": ""
            },
            "type": "choropleth"
           }
          ],
          "contour": [
           {
            "colorbar": {
             "outlinewidth": 0,
             "ticks": ""
            },
            "colorscale": [
             [
              0,
              "#0d0887"
             ],
             [
              0.1111111111111111,
              "#46039f"
             ],
             [
              0.2222222222222222,
              "#7201a8"
             ],
             [
              0.3333333333333333,
              "#9c179e"
             ],
             [
              0.4444444444444444,
              "#bd3786"
             ],
             [
              0.5555555555555556,
              "#d8576b"
             ],
             [
              0.6666666666666666,
              "#ed7953"
             ],
             [
              0.7777777777777778,
              "#fb9f3a"
             ],
             [
              0.8888888888888888,
              "#fdca26"
             ],
             [
              1,
              "#f0f921"
             ]
            ],
            "type": "contour"
           }
          ],
          "contourcarpet": [
           {
            "colorbar": {
             "outlinewidth": 0,
             "ticks": ""
            },
            "type": "contourcarpet"
           }
          ],
          "heatmap": [
           {
            "colorbar": {
             "outlinewidth": 0,
             "ticks": ""
            },
            "colorscale": [
             [
              0,
              "#0d0887"
             ],
             [
              0.1111111111111111,
              "#46039f"
             ],
             [
              0.2222222222222222,
              "#7201a8"
             ],
             [
              0.3333333333333333,
              "#9c179e"
             ],
             [
              0.4444444444444444,
              "#bd3786"
             ],
             [
              0.5555555555555556,
              "#d8576b"
             ],
             [
              0.6666666666666666,
              "#ed7953"
             ],
             [
              0.7777777777777778,
              "#fb9f3a"
             ],
             [
              0.8888888888888888,
              "#fdca26"
             ],
             [
              1,
              "#f0f921"
             ]
            ],
            "type": "heatmap"
           }
          ],
          "histogram": [
           {
            "marker": {
             "pattern": {
              "fillmode": "overlay",
              "size": 10,
              "solidity": 0.2
             }
            },
            "type": "histogram"
           }
          ],
          "histogram2d": [
           {
            "colorbar": {
             "outlinewidth": 0,
             "ticks": ""
            },
            "colorscale": [
             [
              0,
              "#0d0887"
             ],
             [
              0.1111111111111111,
              "#46039f"
             ],
             [
              0.2222222222222222,
              "#7201a8"
             ],
             [
              0.3333333333333333,
              "#9c179e"
             ],
             [
              0.4444444444444444,
              "#bd3786"
             ],
             [
              0.5555555555555556,
              "#d8576b"
             ],
             [
              0.6666666666666666,
              "#ed7953"
             ],
             [
              0.7777777777777778,
              "#fb9f3a"
             ],
             [
              0.8888888888888888,
              "#fdca26"
             ],
             [
              1,
              "#f0f921"
             ]
            ],
            "type": "histogram2d"
           }
          ],
          "histogram2dcontour": [
           {
            "colorbar": {
             "outlinewidth": 0,
             "ticks": ""
            },
            "colorscale": [
             [
              0,
              "#0d0887"
             ],
             [
              0.1111111111111111,
              "#46039f"
             ],
             [
              0.2222222222222222,
              "#7201a8"
             ],
             [
              0.3333333333333333,
              "#9c179e"
             ],
             [
              0.4444444444444444,
              "#bd3786"
             ],
             [
              0.5555555555555556,
              "#d8576b"
             ],
             [
              0.6666666666666666,
              "#ed7953"
             ],
             [
              0.7777777777777778,
              "#fb9f3a"
             ],
             [
              0.8888888888888888,
              "#fdca26"
             ],
             [
              1,
              "#f0f921"
             ]
            ],
            "type": "histogram2dcontour"
           }
          ],
          "mesh3d": [
           {
            "colorbar": {
             "outlinewidth": 0,
             "ticks": ""
            },
            "type": "mesh3d"
           }
          ],
          "parcoords": [
           {
            "line": {
             "colorbar": {
              "outlinewidth": 0,
              "ticks": ""
             }
            },
            "type": "parcoords"
           }
          ],
          "pie": [
           {
            "automargin": true,
            "type": "pie"
           }
          ],
          "scatter": [
           {
            "fillpattern": {
             "fillmode": "overlay",
             "size": 10,
             "solidity": 0.2
            },
            "type": "scatter"
           }
          ],
          "scatter3d": [
           {
            "line": {
             "colorbar": {
              "outlinewidth": 0,
              "ticks": ""
             }
            },
            "marker": {
             "colorbar": {
              "outlinewidth": 0,
              "ticks": ""
             }
            },
            "type": "scatter3d"
           }
          ],
          "scattercarpet": [
           {
            "marker": {
             "colorbar": {
              "outlinewidth": 0,
              "ticks": ""
             }
            },
            "type": "scattercarpet"
           }
          ],
          "scattergeo": [
           {
            "marker": {
             "colorbar": {
              "outlinewidth": 0,
              "ticks": ""
             }
            },
            "type": "scattergeo"
           }
          ],
          "scattergl": [
           {
            "marker": {
             "colorbar": {
              "outlinewidth": 0,
              "ticks": ""
             }
            },
            "type": "scattergl"
           }
          ],
          "scattermap": [
           {
            "marker": {
             "colorbar": {
              "outlinewidth": 0,
              "ticks": ""
             }
            },
            "type": "scattermap"
           }
          ],
          "scattermapbox": [
           {
            "marker": {
             "colorbar": {
              "outlinewidth": 0,
              "ticks": ""
             }
            },
            "type": "scattermapbox"
           }
          ],
          "scatterpolar": [
           {
            "marker": {
             "colorbar": {
              "outlinewidth": 0,
              "ticks": ""
             }
            },
            "type": "scatterpolar"
           }
          ],
          "scatterpolargl": [
           {
            "marker": {
             "colorbar": {
              "outlinewidth": 0,
              "ticks": ""
             }
            },
            "type": "scatterpolargl"
           }
          ],
          "scatterternary": [
           {
            "marker": {
             "colorbar": {
              "outlinewidth": 0,
              "ticks": ""
             }
            },
            "type": "scatterternary"
           }
          ],
          "surface": [
           {
            "colorbar": {
             "outlinewidth": 0,
             "ticks": ""
            },
            "colorscale": [
             [
              0,
              "#0d0887"
             ],
             [
              0.1111111111111111,
              "#46039f"
             ],
             [
              0.2222222222222222,
              "#7201a8"
             ],
             [
              0.3333333333333333,
              "#9c179e"
             ],
             [
              0.4444444444444444,
              "#bd3786"
             ],
             [
              0.5555555555555556,
              "#d8576b"
             ],
             [
              0.6666666666666666,
              "#ed7953"
             ],
             [
              0.7777777777777778,
              "#fb9f3a"
             ],
             [
              0.8888888888888888,
              "#fdca26"
             ],
             [
              1,
              "#f0f921"
             ]
            ],
            "type": "surface"
           }
          ],
          "table": [
           {
            "cells": {
             "fill": {
              "color": "#EBF0F8"
             },
             "line": {
              "color": "white"
             }
            },
            "header": {
             "fill": {
              "color": "#C8D4E3"
             },
             "line": {
              "color": "white"
             }
            },
            "type": "table"
           }
          ]
         },
         "layout": {
          "annotationdefaults": {
           "arrowcolor": "#2a3f5f",
           "arrowhead": 0,
           "arrowwidth": 1
          },
          "autotypenumbers": "strict",
          "coloraxis": {
           "colorbar": {
            "outlinewidth": 0,
            "ticks": ""
           }
          },
          "colorscale": {
           "diverging": [
            [
             0,
             "#8e0152"
            ],
            [
             0.1,
             "#c51b7d"
            ],
            [
             0.2,
             "#de77ae"
            ],
            [
             0.3,
             "#f1b6da"
            ],
            [
             0.4,
             "#fde0ef"
            ],
            [
             0.5,
             "#f7f7f7"
            ],
            [
             0.6,
             "#e6f5d0"
            ],
            [
             0.7,
             "#b8e186"
            ],
            [
             0.8,
             "#7fbc41"
            ],
            [
             0.9,
             "#4d9221"
            ],
            [
             1,
             "#276419"
            ]
           ],
           "sequential": [
            [
             0,
             "#0d0887"
            ],
            [
             0.1111111111111111,
             "#46039f"
            ],
            [
             0.2222222222222222,
             "#7201a8"
            ],
            [
             0.3333333333333333,
             "#9c179e"
            ],
            [
             0.4444444444444444,
             "#bd3786"
            ],
            [
             0.5555555555555556,
             "#d8576b"
            ],
            [
             0.6666666666666666,
             "#ed7953"
            ],
            [
             0.7777777777777778,
             "#fb9f3a"
            ],
            [
             0.8888888888888888,
             "#fdca26"
            ],
            [
             1,
             "#f0f921"
            ]
           ],
           "sequentialminus": [
            [
             0,
             "#0d0887"
            ],
            [
             0.1111111111111111,
             "#46039f"
            ],
            [
             0.2222222222222222,
             "#7201a8"
            ],
            [
             0.3333333333333333,
             "#9c179e"
            ],
            [
             0.4444444444444444,
             "#bd3786"
            ],
            [
             0.5555555555555556,
             "#d8576b"
            ],
            [
             0.6666666666666666,
             "#ed7953"
            ],
            [
             0.7777777777777778,
             "#fb9f3a"
            ],
            [
             0.8888888888888888,
             "#fdca26"
            ],
            [
             1,
             "#f0f921"
            ]
           ]
          },
          "colorway": [
           "#636efa",
           "#EF553B",
           "#00cc96",
           "#ab63fa",
           "#FFA15A",
           "#19d3f3",
           "#FF6692",
           "#B6E880",
           "#FF97FF",
           "#FECB52"
          ],
          "font": {
           "color": "#2a3f5f"
          },
          "geo": {
           "bgcolor": "white",
           "lakecolor": "white",
           "landcolor": "#E5ECF6",
           "showlakes": true,
           "showland": true,
           "subunitcolor": "white"
          },
          "hoverlabel": {
           "align": "left"
          },
          "hovermode": "closest",
          "mapbox": {
           "style": "light"
          },
          "paper_bgcolor": "white",
          "plot_bgcolor": "#E5ECF6",
          "polar": {
           "angularaxis": {
            "gridcolor": "white",
            "linecolor": "white",
            "ticks": ""
           },
           "bgcolor": "#E5ECF6",
           "radialaxis": {
            "gridcolor": "white",
            "linecolor": "white",
            "ticks": ""
           }
          },
          "scene": {
           "xaxis": {
            "backgroundcolor": "#E5ECF6",
            "gridcolor": "white",
            "gridwidth": 2,
            "linecolor": "white",
            "showbackground": true,
            "ticks": "",
            "zerolinecolor": "white"
           },
           "yaxis": {
            "backgroundcolor": "#E5ECF6",
            "gridcolor": "white",
            "gridwidth": 2,
            "linecolor": "white",
            "showbackground": true,
            "ticks": "",
            "zerolinecolor": "white"
           },
           "zaxis": {
            "backgroundcolor": "#E5ECF6",
            "gridcolor": "white",
            "gridwidth": 2,
            "linecolor": "white",
            "showbackground": true,
            "ticks": "",
            "zerolinecolor": "white"
           }
          },
          "shapedefaults": {
           "line": {
            "color": "#2a3f5f"
           }
          },
          "ternary": {
           "aaxis": {
            "gridcolor": "white",
            "linecolor": "white",
            "ticks": ""
           },
           "baxis": {
            "gridcolor": "white",
            "linecolor": "white",
            "ticks": ""
           },
           "bgcolor": "#E5ECF6",
           "caxis": {
            "gridcolor": "white",
            "linecolor": "white",
            "ticks": ""
           }
          },
          "title": {
           "x": 0.05
          },
          "xaxis": {
           "automargin": true,
           "gridcolor": "white",
           "linecolor": "white",
           "ticks": "",
           "title": {
            "standoff": 15
           },
           "zerolinecolor": "white",
           "zerolinewidth": 2
          },
          "yaxis": {
           "automargin": true,
           "gridcolor": "white",
           "linecolor": "white",
           "ticks": "",
           "title": {
            "standoff": 15
           },
           "zerolinecolor": "white",
           "zerolinewidth": 2
          }
         }
        },
        "title": {
         "text": "Spray Chart"
        },
        "updatemenus": [
         {
          "active": 0,
          "buttons": [
           {
            "args": [
             {
              "visible": [
               true
              ]
             },
             {
              "title": "Spray Chart for Buchanan, Walker"
             }
            ],
            "label": "Buchanan, Walker",
            "method": "update"
           }
          ],
          "x": 0.05,
          "xanchor": "left",
          "y": 1.15,
          "yanchor": "top"
         }
        ],
        "width": 900,
        "xaxis": {
         "range": [
          -250,
          250
         ],
         "title": {
          "text": "Horizontal Distance (ft)"
         }
        },
        "yaxis": {
         "range": [
          0,
          400
         ],
         "scaleanchor": "x",
         "title": {
          "text": "Vertical Distance (ft)"
         }
        }
       }
      }
     },
     "metadata": {},
     "output_type": "display_data"
    }
   ],
   "source": [
    "import plotly.graph_objects as go\n",
    "\n",
    "fair_data = data[\n",
    "    (data['Direction'] >= -45) &\n",
    "    (data['Direction'] <= 45) &\n",
    "     (data['Distance'] >= 30)\n",
    "].dropna(subset=['Distance'])\n",
    "\n",
    "fair_data['Direction_rad'] = np.deg2rad(fair_data['Direction'])\n",
    "fair_data['SprayX'] = fair_data['Distance'] * np.sin(fair_data['Direction_rad'])\n",
    "fair_data['SprayY'] = fair_data['Distance'] * np.cos(fair_data['Direction_rad'])\n",
    "\n",
    "\n",
    "selected_batters = ['Nunalee, James', 'Sirois, Jackson', 'Buchanan, Walker']\n",
    "subset_data = fair_data[fair_data['Batter'].isin(selected_batters)]\n",
    "batters = subset_data['Batter'].unique()\n",
    "\n",
    "\n",
    "pitch_types = fair_data['TaggedPitchType'].unique()\n",
    "palette = dict(zip(pitch_types, sns.color_palette(\"hsv\", n_colors=len(pitch_types)).as_hex()))\n",
    "fair_data['Color'] = fair_data['TaggedPitchType'].map(palette)\n",
    "\n",
    "fig = go.Figure()\n",
    "\n",
    "# Add a trace for each batter, initially visible=False except the first\n",
    "for i, batter in enumerate(batters):\n",
    "    batter_data = fair_data[fair_data['Batter'] == batter]\n",
    "    fig.add_trace(go.Scatter(\n",
    "        x=batter_data['SprayX'],\n",
    "        y=batter_data['SprayY'],\n",
    "        mode='markers',\n",
    "        marker=dict(size=8, color='blue', line=dict(width=1, color='black')),\n",
    "        name=batter,\n",
    "        visible=(i == 0),\n",
    "        hovertemplate=(\n",
    "            f\"Batter: {batter}<br>\" +\n",
    "            \"Distance: %{customdata[0]} ft<br>\" +\n",
    "            \"Pitch Type: %{customdata[1]}\"\n",
    "        ),\n",
    "        customdata=np.stack((batter_data['Distance'], batter_data['TaggedPitchType']), axis=-1)\n",
    "    ))\n",
    "\n",
    "# Dropdown menu\n",
    "dropdown_buttons = [\n",
    "    dict(\n",
    "        label=batter,\n",
    "        method='update',\n",
    "        args=[\n",
    "            {\"visible\": [i == j for j in range(len(batters))]},\n",
    "            {\"title\": f\"Spray Chart for {batter}\"}\n",
    "        ]\n",
    "    )\n",
    "    for i, batter in enumerate(batters)\n",
    "]\n",
    "\n",
    "# Foul lines as shapes\n",
    "foul_lines = [\n",
    "    dict(type=\"line\", x0=0, y0=0, x1=-250, y1=250, line=dict(color=\"red\", width=2)),\n",
    "    dict(type=\"line\", x0=0, y0=0, x1=250, y1=250, line=dict(color=\"red\", width=2))\n",
    "]\n",
    "\n",
    "# Layout update\n",
    "fig.update_layout(\n",
    "    updatemenus=[\n",
    "        dict(\n",
    "            active=0,\n",
    "            buttons=dropdown_buttons,\n",
    "            x=0.05,\n",
    "            xanchor='left',\n",
    "            y=1.15,\n",
    "            yanchor='top'\n",
    "        )\n",
    "    ],\n",
    "    shapes=foul_lines,\n",
    "    title=f\"Spray Chart\",\n",
    "    xaxis=dict(range=[-250, 250], title='Horizontal Distance (ft)'),\n",
    "    yaxis=dict(range=[0, 400], title='Vertical Distance (ft)', scaleanchor='x'),\n",
    "    plot_bgcolor='white',\n",
    "    width=900,\n",
    "    height=700\n",
    ")\n",
    "\n",
    "fig.show()"
   ]
  }
 ],
 "metadata": {
  "kernelspec": {
   "display_name": "Python 3",
   "language": "python",
   "name": "python3"
  },
  "language_info": {
   "codemirror_mode": {
    "name": "ipython",
    "version": 3
   },
   "file_extension": ".py",
   "mimetype": "text/x-python",
   "name": "python",
   "nbconvert_exporter": "python",
   "pygments_lexer": "ipython3",
   "version": "3.13.1"
  }
 },
 "nbformat": 4,
 "nbformat_minor": 2
}
